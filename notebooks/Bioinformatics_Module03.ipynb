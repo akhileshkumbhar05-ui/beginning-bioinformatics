{
  "nbformat": 4,
  "nbformat_minor": 0,
  "metadata": {
    "colab": {
      "provenance": [],
      "authorship_tag": "ABX9TyNXBbkx1VNiJ3jIpd9iYZ/H",
      "include_colab_link": true
    },
    "kernelspec": {
      "name": "python3",
      "display_name": "Python 3"
    },
    "language_info": {
      "name": "python"
    }
  },
  "cells": [
    {
      "cell_type": "markdown",
      "metadata": {
        "id": "view-in-github",
        "colab_type": "text"
      },
      "source": [
        "<a href=\"https://colab.research.google.com/github/akhileshkumbhar05-ui/beginning-bioinformatics/blob/main/notebooks/Bioinformatics_Module03.ipynb\" target=\"_parent\"><img src=\"https://colab.research.google.com/assets/colab-badge.svg\" alt=\"Open In Colab\"/></a>"
      ]
    },
    {
      "cell_type": "code",
      "execution_count": 1,
      "metadata": {
        "colab": {
          "base_uri": "https://localhost:8080/"
        },
        "id": "CMFwSjGJdTNu",
        "outputId": "9a0ad782-88c9-408a-debd-a5672ccf88d8"
      },
      "outputs": [
        {
          "output_type": "stream",
          "name": "stdout",
          "text": [
            "hello world\n"
          ]
        }
      ],
      "source": [
        "print(\"hello world\")"
      ]
    },
    {
      "cell_type": "code",
      "source": [
        "# Example 1: Simple assignment\n",
        "x = 10\n",
        "print(\"Example 1: Simple Assignment\")\n",
        "print(\"x =\", x)\n",
        "\n",
        "# Example 2: Add and assign\n",
        "x += 5  # Equivalent to x = x + 5\n",
        "print(\"\\nExample 2: Add and Assign\")\n",
        "print(\"x after += 5:\", x)\n",
        "\n",
        "# Example 3: Multiply and assign\n",
        "x *= 2  # Equivalent to x = x * 2\n",
        "print(\"\\nExample 3: Multiply and Assign\")\n",
        "print(\"x after *= 2:\", x)"
      ],
      "metadata": {
        "colab": {
          "base_uri": "https://localhost:8080/"
        },
        "id": "W7M6Mm4vdi7W",
        "outputId": "bbdb34eb-de1f-451e-bd8d-feca98280415"
      },
      "execution_count": 2,
      "outputs": [
        {
          "output_type": "stream",
          "name": "stdout",
          "text": [
            "Example 1: Simple Assignment\n",
            "x = 10\n",
            "\n",
            "Example 2: Add and Assign\n",
            "x after += 5: 15\n",
            "\n",
            "Example 3: Multiply and Assign\n",
            "x after *= 2: 30\n"
          ]
        }
      ]
    },
    {
      "cell_type": "code",
      "source": [
        "# Integer\n",
        "my_integer = 10\n",
        "print(f\"Integer: {my_integer}, Type: {type(my_integer)}\")\n",
        "\n",
        "# Float\n",
        "my_float = 10.5\n",
        "print(f\"Float: {my_float}, Type: {type(my_float)}\")\n",
        "\n",
        "# String\n",
        "my_string = \"Hello, Colab!\"\n",
        "print(f\"String: {my_string}, Type: {type(my_string)}\")\n",
        "\n",
        "# Boolean\n",
        "my_boolean_true = True\n",
        "my_boolean_false = False\n",
        "print(f\"Boolean (True): {my_boolean_true}, Type: {type(my_boolean_true)}\")\n",
        "print(f\"Boolean (False): {my_boolean_false}, Type: {type(my_boolean_false)}\")\n",
        "\n",
        "# List\n",
        "my_list = [1, 2, 3, \"four\"]\n",
        "print(f\"List: {my_list}, Type: {type(my_list)}\")\n",
        "\n",
        "# Tuple\n",
        "my_tuple = (10, 20, 30)\n",
        "print(f\"Tuple: {my_tuple}, Type: {type(my_tuple)}\")\n",
        "\n",
        "# Dictionary\n",
        "my_dictionary = {\"name\": \"Alice\", \"age\": 30}\n",
        "print(f\"Dictionary: {my_dictionary}, Type: {type(my_dictionary)}\")\n",
        "\n",
        "# Set\n",
        "my_set = {1, 2, 3, 3, 4}\n",
        "print(f\"Set: {my_set}, Type: {type(my_set)}\")\n",
        "\n",
        "# NoneType\n",
        "my_none = None\n",
        "print(f\"NoneType: {my_none}, Type: {type(my_none)}\")"
      ],
      "metadata": {
        "colab": {
          "base_uri": "https://localhost:8080/"
        },
        "id": "Sajx78Jlee9l",
        "outputId": "5b695ffe-cfd1-426f-c36c-cff96b2c8661"
      },
      "execution_count": 3,
      "outputs": [
        {
          "output_type": "stream",
          "name": "stdout",
          "text": [
            "Integer: 10, Type: <class 'int'>\n",
            "Float: 10.5, Type: <class 'float'>\n",
            "String: Hello, Colab!, Type: <class 'str'>\n",
            "Boolean (True): True, Type: <class 'bool'>\n",
            "Boolean (False): False, Type: <class 'bool'>\n",
            "List: [1, 2, 3, 'four'], Type: <class 'list'>\n",
            "Tuple: (10, 20, 30), Type: <class 'tuple'>\n",
            "Dictionary: {'name': 'Alice', 'age': 30}, Type: <class 'dict'>\n",
            "Set: {1, 2, 3, 4}, Type: <class 'set'>\n",
            "NoneType: None, Type: <class 'NoneType'>\n"
          ]
        }
      ]
    },
    {
      "cell_type": "code",
      "source": [
        "#Rosalind problem 1:\n",
        "#Given: Two positive integers a and b, each less than 1000.\n",
        "#Return: The integer corresponding to the square of the hypotenuse of the right triangle whose legs have lengths a and b.\n",
        "\n",
        "def hypotenuse_squared(a,b):\n",
        "  return a**2 + b**2\n",
        "print(hypotenuse_squared(925,824))"
      ],
      "metadata": {
        "colab": {
          "base_uri": "https://localhost:8080/"
        },
        "id": "C1lC11AZgBPW",
        "outputId": "99c50a13-88ef-4879-bf78-5ab9b8e4f053"
      },
      "execution_count": 5,
      "outputs": [
        {
          "output_type": "stream",
          "name": "stdout",
          "text": [
            "1534601\n"
          ]
        }
      ]
    },
    {
      "cell_type": "code",
      "metadata": {
        "id": "246bd498"
      },
      "source": [
        "# Gemini produced code:\n",
        "# Function to calculate the square of the hypotenuse\n",
        "def hypotenuse_squared(a, b):\n",
        "  \"\"\"\n",
        "  Given two positive integers a and b, each less than 1000,\n",
        "  return the integer corresponding to the square of the hypotenuse\n",
        "  of the right triangle whose legs have lengths a and b.\n",
        "  \"\"\"\n",
        "  return a**2 + b**2"
      ],
      "execution_count": 7,
      "outputs": []
    },
    {
      "cell_type": "code",
      "metadata": {
        "colab": {
          "base_uri": "https://localhost:8080/"
        },
        "id": "6d79d066",
        "outputId": "a0bba604-10f4-425c-bc68-9af02d4372c1"
      },
      "source": [
        "# Test cases\n",
        "# Test case 1: Basic test with small integers\n",
        "a1, b1 = 3, 4\n",
        "expected1 = 3**2 + 4**2\n",
        "result1 = hypotenuse_squared(a1, b1)\n",
        "print(f\"Test Case 1: a={a1}, b={b1}, Expected: {expected1}, Result: {result1}\")\n",
        "assert result1 == expected1, f\"Test Case 1 Failed: Expected {expected1}, Got {result1}\"\n",
        "\n",
        "# Test case 2: Test with different integers\n",
        "a2, b2 = 5, 12\n",
        "expected2 = 5**2 + 12**2\n",
        "result2 = hypotenuse_squared(a2, b2)\n",
        "print(f\"Test Case 2: a={a2}, b={b2}, Expected: {expected2}, Result: {result2}\")\n",
        "assert result2 == expected2, f\"Test Case 2 Failed: Expected {expected2}, Got {result2}\"\n",
        "\n",
        "# Test case 3: Test with larger integers (less than 1000)\n",
        "a3, b3 = 999, 999\n",
        "expected3 = 999**2 + 999**2\n",
        "result3 = hypotenuse_squared(a3, b3)\n",
        "print(f\"Test Case 3: a={a3}, b={b3}, Expected: {expected3}, Result: {result3}\")\n",
        "assert result3 == expected3, f\"Test Case 3 Failed: Expected {expected3}, Got {result3}\""
      ],
      "execution_count": 8,
      "outputs": [
        {
          "output_type": "stream",
          "name": "stdout",
          "text": [
            "Test Case 1: a=3, b=4, Expected: 25, Result: 25\n",
            "Test Case 2: a=5, b=12, Expected: 169, Result: 169\n",
            "Test Case 3: a=999, b=999, Expected: 1996002, Result: 1996002\n"
          ]
        }
      ]
    },
    {
      "cell_type": "code",
      "source": [
        "name = input(\"Enter your name: \")\n",
        "print(\"Hello, \" + name)"
      ],
      "metadata": {
        "colab": {
          "base_uri": "https://localhost:8080/"
        },
        "id": "oqqg3JOt61CF",
        "outputId": "2608f414-a1fe-4596-c5c4-a5aa9d0e1729"
      },
      "execution_count": 9,
      "outputs": [
        {
          "output_type": "stream",
          "name": "stdout",
          "text": [
            "Enter your name: Akhilesh\n",
            "Hello, Akhilesh\n"
          ]
        }
      ]
    },
    {
      "cell_type": "code",
      "source": [
        "#Modified Solution to Rosalind#1\n",
        "a = int(input(\"Enter your first integer: \"))\n",
        "b = int(input(\"Enter your second integer: \"))\n",
        "\n",
        "def hypotenuse_squared(a,b):\n",
        "  return a**2 + b**2\n",
        "print(hypotenuse_squared(a,b))"
      ],
      "metadata": {
        "colab": {
          "base_uri": "https://localhost:8080/"
        },
        "id": "U9M81chu7BDe",
        "outputId": "91995d41-fa53-4ae5-c525-969f65e5f10d"
      },
      "execution_count": 10,
      "outputs": [
        {
          "output_type": "stream",
          "name": "stdout",
          "text": [
            "Enter your first integer: 12\n",
            "Enter your second integer: 13\n",
            "313\n"
          ]
        }
      ]
    },
    {
      "cell_type": "code",
      "source": [
        "my_list = [\"Hello\", \"World\", \"Charles Darwin\"]\n",
        "print(my_list[1])"
      ],
      "metadata": {
        "colab": {
          "base_uri": "https://localhost:8080/"
        },
        "id": "ayzmZi8y7sZR",
        "outputId": "ca621073-a1d2-4ccd-8130-c3d9adff4bb3"
      },
      "execution_count": 11,
      "outputs": [
        {
          "output_type": "stream",
          "name": "stdout",
          "text": [
            "World\n"
          ]
        }
      ]
    },
    {
      "cell_type": "code",
      "source": [
        "my_list[2] = \"Alfred R. Wallace\"\n",
        "print(my_list)"
      ],
      "metadata": {
        "colab": {
          "base_uri": "https://localhost:8080/"
        },
        "id": "e2fCc33g9jhN",
        "outputId": "addf19db-6836-4b81-d520-1014f3c34346"
      },
      "execution_count": 12,
      "outputs": [
        {
          "output_type": "stream",
          "name": "stdout",
          "text": [
            "['Hello', 'World', 'Alfred R. Wallace']\n"
          ]
        }
      ]
    },
    {
      "cell_type": "code",
      "source": [
        "my_list.append(\"Charles Darwin\")\n",
        "print(my_list)"
      ],
      "metadata": {
        "colab": {
          "base_uri": "https://localhost:8080/"
        },
        "id": "X8HXRqxK-jPx",
        "outputId": "2045346b-722c-4779-8745-810872cb280c"
      },
      "execution_count": 13,
      "outputs": [
        {
          "output_type": "stream",
          "name": "stdout",
          "text": [
            "['Hello', 'World', 'Alfred R. Wallace', 'Charles Darwin']\n"
          ]
        }
      ]
    },
    {
      "cell_type": "code",
      "source": [
        "# Insert 'New Item' at index 1\n",
        "my_list.insert(1, \"New Item\")\n",
        "print(my_list)"
      ],
      "metadata": {
        "colab": {
          "base_uri": "https://localhost:8080/"
        },
        "id": "nYO0O8JV-rP0",
        "outputId": "0595edf0-1694-4e19-d3bf-a16b34dab93b"
      },
      "execution_count": 14,
      "outputs": [
        {
          "output_type": "stream",
          "name": "stdout",
          "text": [
            "['Hello', 'New Item', 'World', 'Alfred R. Wallace', 'Charles Darwin']\n"
          ]
        }
      ]
    },
    {
      "cell_type": "code",
      "source": [
        "print(my_list[2:4])"
      ],
      "metadata": {
        "colab": {
          "base_uri": "https://localhost:8080/"
        },
        "id": "E9ePEXvm_j81",
        "outputId": "383afddf-1ed1-4c39-8b16-aeb0debde9cf"
      },
      "execution_count": 15,
      "outputs": [
        {
          "output_type": "stream",
          "name": "stdout",
          "text": [
            "['World', 'Alfred R. Wallace']\n"
          ]
        }
      ]
    },
    {
      "cell_type": "code",
      "source": [
        "my_string = \"HelloWorldCharlesDarwinAlfred R. Walace\"\n",
        "print(my_string[0:5],my_string[5:10])"
      ],
      "metadata": {
        "colab": {
          "base_uri": "https://localhost:8080/"
        },
        "id": "WBFUnD7X_qQc",
        "outputId": "db70c0f3-6b11-4875-bd83-2aecafdcaa34"
      },
      "execution_count": 16,
      "outputs": [
        {
          "output_type": "stream",
          "name": "stdout",
          "text": [
            "Hello World\n"
          ]
        }
      ]
    },
    {
      "cell_type": "code",
      "source": [
        "print(my_string[33:], my_string[5:10])"
      ],
      "metadata": {
        "colab": {
          "base_uri": "https://localhost:8080/"
        },
        "id": "8zRrxOmL_7Ei",
        "outputId": "db01031e-9b64-468e-9947-1f4255090eba"
      },
      "execution_count": 17,
      "outputs": [
        {
          "output_type": "stream",
          "name": "stdout",
          "text": [
            "Walace World\n"
          ]
        }
      ]
    },
    {
      "cell_type": "code",
      "source": [
        "#Rosalind Problem 2: Strings and Lists:\n",
        "def string_slicer(s,a,b,c,d):\n",
        "  return s[a:b+1] + \" \" + s[c:d+1]\n",
        "\n",
        "print(string_slicer(\"pXuS3iqECvgGbsyL005Nl9bqAccipiterdRxr4SXU8RBd66h7KkMR5b2qQWDnAn4ACtrYiwW3vKtRXKRCjuf3E7naQDaj4XCwwAzNsEM7354Lridibundus36l4UHe8S1bs3cVXhMDE6X889HqbMqPAFR83CDGwA1AcT4VpBfFIpZeHZHxnTL.\", 24,32,109,118))"
      ],
      "metadata": {
        "colab": {
          "base_uri": "https://localhost:8080/"
        },
        "id": "TsIJj2t5ATKj",
        "outputId": "be924a8e-f844-4e9b-d110-7fa67752a12a"
      },
      "execution_count": 19,
      "outputs": [
        {
          "output_type": "stream",
          "name": "stdout",
          "text": [
            "Accipiter ridibundus\n"
          ]
        }
      ]
    },
    {
      "cell_type": "code",
      "source": [
        "a = 5\n",
        "b = 5\n",
        "if a!=b:\n",
        "  print(a-b)\n",
        "else:\n",
        "  print(a+b)"
      ],
      "metadata": {
        "colab": {
          "base_uri": "https://localhost:8080/"
        },
        "id": "BWkhuOFoBZqo",
        "outputId": "aa5e2345-3460-40b4-957f-155e750721b6"
      },
      "execution_count": 20,
      "outputs": [
        {
          "output_type": "stream",
          "name": "stdout",
          "text": [
            "10\n"
          ]
        }
      ]
    },
    {
      "cell_type": "code",
      "source": [
        "a = 1\n",
        "while a<=3:\n",
        "  print(\"Counting!\", a)\n",
        "  a += 1"
      ],
      "metadata": {
        "colab": {
          "base_uri": "https://localhost:8080/"
        },
        "id": "0lxmcuwjCPFv",
        "outputId": "501f444c-0a5e-4100-fc25-404981e2721a"
      },
      "execution_count": 22,
      "outputs": [
        {
          "output_type": "stream",
          "name": "stdout",
          "text": [
            "Counting! 1\n",
            "Counting! 2\n",
            "Counting! 3\n"
          ]
        }
      ]
    },
    {
      "cell_type": "code",
      "source": [
        "names = [\"Alice\",\"Bob\",\"Charlie\"]\n",
        "for name in names:\n",
        "  print(\"Hello\", name)"
      ],
      "metadata": {
        "colab": {
          "base_uri": "https://localhost:8080/"
        },
        "id": "xcsn0Z1FCtBM",
        "outputId": "6ffc55a4-9a2a-4b76-86e4-c957949bdca2"
      },
      "execution_count": 23,
      "outputs": [
        {
          "output_type": "stream",
          "name": "stdout",
          "text": [
            "Hello Alice\n",
            "Hello Bob\n",
            "Hello Charlie\n"
          ]
        }
      ]
    },
    {
      "cell_type": "code",
      "source": [
        "iterations = 10\n",
        "for number in range(iterations):\n",
        "  print(number)"
      ],
      "metadata": {
        "colab": {
          "base_uri": "https://localhost:8080/"
        },
        "id": "ZjQbuzFNDLmr",
        "outputId": "ec294146-a6cd-4a6a-a84c-54627efcdbb8"
      },
      "execution_count": 24,
      "outputs": [
        {
          "output_type": "stream",
          "name": "stdout",
          "text": [
            "0\n",
            "1\n",
            "2\n",
            "3\n",
            "4\n",
            "5\n",
            "6\n",
            "7\n",
            "8\n",
            "9\n"
          ]
        }
      ]
    },
    {
      "cell_type": "code",
      "source": [
        "#Task P12.2:\n",
        "for number in range(9,28,3):\n",
        "  print(number)"
      ],
      "metadata": {
        "colab": {
          "base_uri": "https://localhost:8080/"
        },
        "id": "2_6EZC1TDi4L",
        "outputId": "65b88c9c-ab59-4f25-8a31-af31bdd24e94"
      },
      "execution_count": 27,
      "outputs": [
        {
          "output_type": "stream",
          "name": "stdout",
          "text": [
            "9\n",
            "12\n",
            "15\n",
            "18\n",
            "21\n",
            "24\n",
            "27\n"
          ]
        }
      ]
    },
    {
      "cell_type": "code",
      "source": [
        "#Rosalind Problem 3: Conditions and Loops:\n",
        "def odd_sum(a,b):\n",
        "  sum = 0\n",
        "  for num in range(a, b+1):\n",
        "    if num % 2 == 1:\n",
        "      sum += num\n",
        "  return sum\n",
        "\n",
        "print(odd_sum(4090, 8189))"
      ],
      "metadata": {
        "colab": {
          "base_uri": "https://localhost:8080/"
        },
        "id": "U9Nis-IKD3Ov",
        "outputId": "79bbb824-e544-4696-8f74-5e2e642aabd7"
      },
      "execution_count": 28,
      "outputs": [
        {
          "output_type": "stream",
          "name": "stdout",
          "text": [
            "12587000\n"
          ]
        }
      ]
    },
    {
      "cell_type": "code",
      "source": [
        "with open(\"/content/practice.txt\",\"r\") as data:\n",
        "  print(data.read())"
      ],
      "metadata": {
        "colab": {
          "base_uri": "https://localhost:8080/"
        },
        "id": "qvMSvyjvOIH1",
        "outputId": "9490aef5-346b-4315-cf2e-655cbdda090e"
      },
      "execution_count": 30,
      "outputs": [
        {
          "output_type": "stream",
          "name": "stdout",
          "text": [
            "Bravely bold Sir Robin rode forth from Camelot\n",
            "Yes, brave Sir Robin turned about\n",
            "He was not afraid to die, O brave Sir Robin\n",
            "And gallantly he chickened out\n",
            "He was not at all afraid to be killed in nasty ways\n",
            "Bravely talking to his feet\n",
            "Brave, brave, brave, brave Sir Robin\n",
            "He beat a very brave retreat\n"
          ]
        }
      ]
    },
    {
      "cell_type": "code",
      "source": [
        "with open(\"/content/practice.txt\",\"r\") as data:\n",
        "  print(data.read())\n",
        "  print(data.readline())\n",
        "  print(data.readlines())"
      ],
      "metadata": {
        "colab": {
          "base_uri": "https://localhost:8080/"
        },
        "id": "2X1yQwWAQIZt",
        "outputId": "02432afc-e63b-4419-deb8-9fa55652d247"
      },
      "execution_count": 34,
      "outputs": [
        {
          "output_type": "stream",
          "name": "stdout",
          "text": [
            "Bravely bold Sir Robin rode forth from Camelot\n",
            "Yes, brave Sir Robin turned about\n",
            "He was not afraid to die, O brave Sir Robin\n",
            "And gallantly he chickened out\n",
            "He was not at all afraid to be killed in nasty ways\n",
            "Bravely talking to his feet\n",
            "Brave, brave, brave, brave Sir Robin\n",
            "He beat a very brave retreat\n",
            "\n",
            "[]\n"
          ]
        }
      ]
    },
    {
      "cell_type": "code",
      "source": [
        "with open(\"/content/practice.txt\",\"r\") as data:\n",
        "  list_of_lines = data.readlines()\n",
        "print(list_of_lines)\n",
        "\n",
        "print(\" \".join(list_of_lines[1:3]))"
      ],
      "metadata": {
        "colab": {
          "base_uri": "https://localhost:8080/"
        },
        "id": "9oOMTumZRRvJ",
        "outputId": "89b87d6f-8880-43db-d74c-937d23f3e5ea"
      },
      "execution_count": 36,
      "outputs": [
        {
          "output_type": "stream",
          "name": "stdout",
          "text": [
            "['Bravely bold Sir Robin rode forth from Camelot\\n', 'Yes, brave Sir Robin turned about\\n', 'He was not afraid to die, O brave Sir Robin\\n', 'And gallantly he chickened out\\n', 'He was not at all afraid to be killed in nasty ways\\n', 'Bravely talking to his feet\\n', 'Brave, brave, brave, brave Sir Robin\\n', 'He beat a very brave retreat']\n",
            "Yes, brave Sir Robin turned about\n",
            " He was not afraid to die, O brave Sir Robin\n",
            "\n"
          ]
        }
      ]
    },
    {
      "cell_type": "code",
      "source": [
        "#Task P14.1\n",
        "with open(\"/content/practice.txt\",\"r\") as data:\n",
        "  list_of_lines = data.readlines()\n",
        "\n",
        "print(\" \".join(list_of_lines))"
      ],
      "metadata": {
        "colab": {
          "base_uri": "https://localhost:8080/"
        },
        "id": "f6gLzwVMSZBU",
        "outputId": "7811d0a3-cd39-4311-a00a-accc78ae0148"
      },
      "execution_count": 38,
      "outputs": [
        {
          "output_type": "stream",
          "name": "stdout",
          "text": [
            "Bravely bold Sir Robin rode forth from Camelot\n",
            " Yes, brave Sir Robin turned about\n",
            " He was not afraid to die, O brave Sir Robin\n",
            " And gallantly he chickened out\n",
            " He was not at all afraid to be killed in nasty ways\n",
            " Bravely talking to his feet\n",
            " Brave, brave, brave, brave Sir Robin\n",
            " He beat a very brave retreat\n"
          ]
        }
      ]
    },
    {
      "cell_type": "code",
      "source": [
        "#file_looping.py:\n",
        "#Task P15.1\n",
        "with open(\"/content/practice.txt\",\"r\") as data:\n",
        "  for line in data:\n",
        "    print(line)"
      ],
      "metadata": {
        "colab": {
          "base_uri": "https://localhost:8080/"
        },
        "id": "toxWR6SOTAGU",
        "outputId": "f29415ad-b804-4f81-eb95-17ac8327e46e"
      },
      "execution_count": 39,
      "outputs": [
        {
          "output_type": "stream",
          "name": "stdout",
          "text": [
            "Bravely bold Sir Robin rode forth from Camelot\n",
            "\n",
            "Yes, brave Sir Robin turned about\n",
            "\n",
            "He was not afraid to die, O brave Sir Robin\n",
            "\n",
            "And gallantly he chickened out\n",
            "\n",
            "He was not at all afraid to be killed in nasty ways\n",
            "\n",
            "Bravely talking to his feet\n",
            "\n",
            "Brave, brave, brave, brave Sir Robin\n",
            "\n",
            "He beat a very brave retreat\n"
          ]
        }
      ]
    },
    {
      "cell_type": "code",
      "source": [
        "#Task P15.1\n",
        "with open(\"/content/practice.txt\",\"r\") as data:\n",
        "  for line in data:\n",
        "    print(line.rstrip())"
      ],
      "metadata": {
        "colab": {
          "base_uri": "https://localhost:8080/"
        },
        "id": "0s1ZY-EqTfsM",
        "outputId": "b1507372-e862-4665-d357-a77ac3031bd7"
      },
      "execution_count": 43,
      "outputs": [
        {
          "output_type": "stream",
          "name": "stdout",
          "text": [
            "Bravely bold Sir Robin rode forth from Camelot\n",
            "Yes, brave Sir Robin turned about\n",
            "He was not afraid to die, O brave Sir Robin\n",
            "And gallantly he chickened out\n",
            "He was not at all afraid to be killed in nasty ways\n",
            "Bravely talking to his feet\n",
            "Brave, brave, brave, brave Sir Robin\n",
            "He beat a very brave retreat\n"
          ]
        }
      ]
    },
    {
      "cell_type": "code",
      "source": [
        "#Rosalind Problem 4: Working with Files:\n",
        "with open(\"/content/rosalind_ini5.txt\",\"r\") as data:\n",
        "  list_lines = data.readlines()\n",
        "  for ind, line in enumerate(list_lines, start = 1):\n",
        "    if ind % 2 == 0:\n",
        "      print(line.strip())"
      ],
      "metadata": {
        "colab": {
          "base_uri": "https://localhost:8080/"
        },
        "id": "ppe70thQTz8w",
        "outputId": "c92bbd89-33c9-48dc-9342-9055f8da3c04"
      },
      "execution_count": 47,
      "outputs": [
        {
          "output_type": "stream",
          "name": "stdout",
          "text": [
            "Some things in life are bad, they can really make you mad\n",
            "Other things just make you swear and curse\n",
            "When you're chewing on life's gristle, don't grumble give a whistle\n",
            "This will help things turn out for the best\n",
            "Always look on the bright side of life\n",
            "Always look on the right side of life\n",
            "If life seems jolly rotten, there's something you've forgotten\n",
            "And that's to laugh and smile and dance and sing\n",
            "When you're feeling in the dumps, don't be silly, chumps\n",
            "Just purse your lips and whistle, that's the thing\n",
            "So, always look on the bright side of death\n",
            "Just before you draw your terminal breath\n",
            "Life's a counterfeit and when you look at it\n",
            "Life's a laugh and death's the joke, it's true\n",
            "You see, it's all a show, keep them laughing as you go\n",
            "Just remember the last laugh is on you\n",
            "Always look on the bright side of life\n",
            "And always look on the right side of life\n",
            "Always look on the bright side of life\n",
            "And always look on the right side of life\n"
          ]
        }
      ]
    },
    {
      "cell_type": "code",
      "source": [
        "#task P16.1:\n",
        "with open(\"/content/practice5.txt\",\"r\") as data:\n",
        "  line = data.read()\n",
        "\n",
        "for word in line.split():\n",
        "  print(word)"
      ],
      "metadata": {
        "colab": {
          "base_uri": "https://localhost:8080/"
        },
        "id": "jqddw9aoYHrn",
        "outputId": "11e99847-55d8-4d17-ef5a-9c1e0006d8e6"
      },
      "execution_count": 48,
      "outputs": [
        {
          "output_type": "stream",
          "name": "stdout",
          "text": [
            "We\n",
            "tried\n",
            "list\n",
            "and\n",
            "we\n",
            "tried\n",
            "dicts\n",
            "also\n",
            "we\n",
            "tried\n",
            "Zen\n"
          ]
        }
      ]
    },
    {
      "cell_type": "code",
      "source": [
        "#P17.1\n",
        "sequences ={\n",
        "    \"H.neandertalensis\" : \"ACGTCGCTCTGCTA\",\n",
        "    \"H.sapiens\" : \"ACGTCACTCTGCTA\"\n",
        "}\n",
        "print(sequences)"
      ],
      "metadata": {
        "colab": {
          "base_uri": "https://localhost:8080/"
        },
        "id": "iwNwsAVGlt_2",
        "outputId": "89000d41-931b-4035-f157-e66b7f73a27b"
      },
      "execution_count": 49,
      "outputs": [
        {
          "output_type": "stream",
          "name": "stdout",
          "text": [
            "{'H.neandertalensis': 'ACGTCGCTCTGCTA', 'H.sapiens': 'ACGTCACTCTGCTA'}\n"
          ]
        }
      ]
    },
    {
      "cell_type": "code",
      "source": [
        "#P18\n",
        "sequences[\"P.troglodytes\"] = \"ACGTCACTCTCCTA\"\n",
        "sequences.update({\"G.gorilla\":\"ACGTCCTCCTA\", \"H.erectus\":\"ACGTCACTCTGCTA\"})"
      ],
      "metadata": {
        "id": "NqNErxDfnLBB"
      },
      "execution_count": 50,
      "outputs": []
    },
    {
      "cell_type": "code",
      "source": [
        "print(sequences[\"H.sapiens\"])"
      ],
      "metadata": {
        "colab": {
          "base_uri": "https://localhost:8080/"
        },
        "id": "ucqW8KXTpWVt",
        "outputId": "ce698b44-c8c7-4a1e-8232-569f79026c31"
      },
      "execution_count": 51,
      "outputs": [
        {
          "output_type": "stream",
          "name": "stdout",
          "text": [
            "ACGTCACTCTGCTA\n"
          ]
        }
      ]
    },
    {
      "cell_type": "code",
      "source": [
        "for key,value in sequences.items():\n",
        "  print(key,value)"
      ],
      "metadata": {
        "colab": {
          "base_uri": "https://localhost:8080/"
        },
        "id": "q-xY6NBCpa8m",
        "outputId": "ec2e031c-24dd-4452-c526-206f5a8220c8"
      },
      "execution_count": 52,
      "outputs": [
        {
          "output_type": "stream",
          "name": "stdout",
          "text": [
            "H.neandertalensis ACGTCGCTCTGCTA\n",
            "H.sapiens ACGTCACTCTGCTA\n",
            "P.troglodytes ACGTCACTCTCCTA\n",
            "G.gorilla ACGTCCTCCTA\n",
            "H.erectus ACGTCACTCTGCTA\n"
          ]
        }
      ]
    },
    {
      "cell_type": "code",
      "source": [
        "with open(\"sequences.fasta\", \"w\") as f:\n",
        "    for name, seq in sequences.items():\n",
        "        f.write(f\">{name}\\n{seq}\\n\")"
      ],
      "metadata": {
        "id": "NJ_tSWmnpld7"
      },
      "execution_count": 53,
      "outputs": []
    },
    {
      "cell_type": "code",
      "source": [
        "#Rosalind Problem 5: Dictionaries:\n",
        "with open(\"/content/rosalind_ini6(2).txt\",\"r\") as data:\n",
        "  line = data.read()\n",
        "words = dict()\n",
        "for word in line.split():\n",
        "  if word in words:\n",
        "    words[word] += 1\n",
        "  else:\n",
        "    words[word] = 1\n",
        "for key,value in words.items():\n",
        "  print(key, value)"
      ],
      "metadata": {
        "colab": {
          "base_uri": "https://localhost:8080/"
        },
        "id": "7CtkGyepqeF7",
        "outputId": "1d171859-c13e-4ce7-f09c-516340ebea92"
      },
      "execution_count": 58,
      "outputs": [
        {
          "output_type": "stream",
          "name": "stdout",
          "text": [
            "When 1\n",
            "I 2\n",
            "find 1\n",
            "myself 1\n",
            "in 4\n",
            "times 1\n",
            "of 11\n",
            "trouble 1\n",
            "Mother 2\n",
            "Mary 2\n",
            "comes 2\n",
            "to 3\n",
            "me 4\n",
            "Speaking 3\n",
            "words 7\n",
            "wisdom 7\n",
            "let 30\n",
            "it 36\n",
            "be 41\n",
            "And 3\n",
            "my 1\n",
            "hour 1\n",
            "darkness 1\n",
            "she 1\n",
            "is 4\n",
            "standing 1\n",
            "right 1\n",
            "front 1\n",
            "Let 6\n",
            "Whisper 4\n",
            "when 2\n",
            "the 4\n",
            "broken 1\n",
            "hearted 1\n",
            "people 1\n",
            "living 1\n",
            "world 1\n",
            "agree 1\n",
            "There 4\n",
            "will 5\n",
            "an 4\n",
            "answer 4\n",
            "For 1\n",
            "though 1\n",
            "they 2\n",
            "may 1\n",
            "parted 1\n",
            "there 2\n",
            "still 2\n",
            "a 2\n",
            "chance 1\n",
            "that 2\n",
            "see 1\n",
            "night 1\n",
            "cloudy 1\n",
            "light 1\n",
            "shines 1\n",
            "on 1\n",
            "Shine 1\n",
            "until 1\n",
            "tomorrow 1\n",
            "wake 1\n",
            "up 1\n",
            "sound 1\n",
            "music 1\n",
            "yeah 2\n"
          ]
        }
      ]
    },
    {
      "cell_type": "code",
      "source": [
        "with open(\"/content/practice6.txt\",\"r\") as data:\n",
        "  genom = data.read()\n",
        "print(genom.count(\"A\"), genom.count(\"C\"), genom.count(\"G\"), genom.count(\"T\"))"
      ],
      "metadata": {
        "colab": {
          "base_uri": "https://localhost:8080/"
        },
        "id": "taweY70fsWG5",
        "outputId": "73529e22-2131-4a5d-ec64-aac1a986461e"
      },
      "execution_count": 59,
      "outputs": [
        {
          "output_type": "stream",
          "name": "stdout",
          "text": [
            "20 12 17 21\n"
          ]
        }
      ]
    },
    {
      "cell_type": "code",
      "source": [
        "#Rosalind Problem 6: Counting DNA Nucleotides:\n",
        "with open(\"/content/rosalind_dna.txt\",\"r\") as data:\n",
        "  genom = data.read()\n",
        "print(genom.count(\"A\"), genom.count(\"C\"), genom.count(\"G\"), genom.count(\"T\"))"
      ],
      "metadata": {
        "colab": {
          "base_uri": "https://localhost:8080/"
        },
        "id": "dIoVu963x6wo",
        "outputId": "8ac6583c-fddb-47bc-f051-d68ee2ff271d"
      },
      "execution_count": 60,
      "outputs": [
        {
          "output_type": "stream",
          "name": "stdout",
          "text": [
            "205 226 211 246\n"
          ]
        }
      ]
    },
    {
      "cell_type": "code",
      "source": [
        "#19.2\n",
        "#Rosalind Problem 5: Dictionaries Modified:\n",
        "with open(\"/content/rosalind_ini6(2).txt\",\"r\") as data:\n",
        "  line = data.read()\n",
        "words = dict()\n",
        "for word in line.split():\n",
        "  if word not in words:\n",
        "    words[word] = line.count(word)\n",
        "  else:\n",
        "    words[word] += 1\n",
        "for key,value in words.items():\n",
        "  print(key, value)"
      ],
      "metadata": {
        "colab": {
          "base_uri": "https://localhost:8080/"
        },
        "id": "Mjnkd3xC0OaG",
        "outputId": "93247007-2dde-4304-e81f-f5cfb6c87fea"
      },
      "execution_count": 66,
      "outputs": [
        {
          "output_type": "stream",
          "name": "stdout",
          "text": [
            "When 1\n",
            "I 3\n",
            "find 1\n",
            "myself 1\n",
            "in 15\n",
            "times 1\n",
            "of 21\n",
            "trouble 1\n",
            "Mother 3\n",
            "Mary 3\n",
            "comes 3\n",
            "to 6\n",
            "me 10\n",
            "Speaking 5\n",
            "words 13\n",
            "wisdom 13\n",
            "let 59\n",
            "it 71\n",
            "be 81\n",
            "And 5\n",
            "my 2\n",
            "hour 1\n",
            "darkness 1\n",
            "she 1\n",
            "is 18\n",
            "standing 1\n",
            "right 1\n",
            "front 1\n",
            "Let 11\n",
            "Whisper 7\n",
            "when 3\n",
            "the 13\n",
            "broken 1\n",
            "hearted 1\n",
            "people 1\n",
            "living 1\n",
            "world 1\n",
            "agree 1\n",
            "There 7\n",
            "will 9\n",
            "an 13\n",
            "answer 7\n",
            "For 1\n",
            "though 1\n",
            "they 3\n",
            "may 1\n",
            "parted 1\n",
            "there 3\n",
            "still 3\n",
            "a 28\n",
            "chance 1\n",
            "that 3\n",
            "see 1\n",
            "night 1\n",
            "cloudy 1\n",
            "light 1\n",
            "shines 1\n",
            "on 2\n",
            "Shine 1\n",
            "until 1\n",
            "tomorrow 1\n",
            "wake 1\n",
            "up 1\n",
            "sound 1\n",
            "music 1\n",
            "yeah 3\n"
          ]
        }
      ]
    },
    {
      "cell_type": "code",
      "source": [],
      "metadata": {
        "id": "UYEKseDg2DBc"
      },
      "execution_count": null,
      "outputs": []
    }
  ]
}